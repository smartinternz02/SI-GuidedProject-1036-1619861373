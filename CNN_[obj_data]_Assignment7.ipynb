{
  "nbformat": 4,
  "nbformat_minor": 0,
  "metadata": {
    "colab": {
      "name": "CNN [obj_data] Assignment7.ipynb",
      "provenance": [],
      "collapsed_sections": []
    },
    "kernelspec": {
      "name": "python3",
      "display_name": "Python 3"
    },
    "language_info": {
      "name": "python"
    }
  },
  "cells": [
    {
      "cell_type": "code",
      "metadata": {
        "colab": {
          "base_uri": "https://localhost:8080/"
        },
        "id": "FIRMJx2KwwX2",
        "outputId": "0ccf9531-07db-49ea-d5a4-8c804cc48480"
      },
      "source": [
        "from google.colab import drive\n",
        "drive.mount(\"/content/drive\")"
      ],
      "execution_count": 1,
      "outputs": [
        {
          "output_type": "stream",
          "text": [
            "Drive already mounted at /content/drive; to attempt to forcibly remount, call drive.mount(\"/content/drive\", force_remount=True).\n"
          ],
          "name": "stdout"
        }
      ]
    },
    {
      "cell_type": "code",
      "metadata": {
        "id": "DlxKHERkwxyH"
      },
      "source": [
        "from tensorflow.keras.models import Sequential\n",
        "from tensorflow.keras.layers import Dense\n",
        "from tensorflow.keras.layers import Convolution2D\n",
        "from tensorflow.keras.layers import MaxPooling2D\n",
        "from tensorflow.keras.layers import Flatten"
      ],
      "execution_count": 2,
      "outputs": []
    },
    {
      "cell_type": "code",
      "metadata": {
        "id": "_8DqPx0yw8sb"
      },
      "source": [
        "from keras.preprocessing.image import ImageDataGenerator\n",
        "train_datagen = ImageDataGenerator(rescale = 1./255,shear_range = 0.2,zoom_range = 0.2,horizontal_flip = True)\n",
        "test_datagen = ImageDataGenerator(rescale = 1./255)"
      ],
      "execution_count": 3,
      "outputs": []
    },
    {
      "cell_type": "code",
      "metadata": {
        "colab": {
          "base_uri": "https://localhost:8080/"
        },
        "id": "1jmei5JAw-zB",
        "outputId": "b538ba07-c489-4768-8c3c-5c2140cc3fb3"
      },
      "source": [
        "x_train = train_datagen.flow_from_directory(\"/content/drive/MyDrive/Objectdata/Objectdata/trainset\",target_size=(64,64),batch_size=32,class_mode=\"categorical\")\n",
        "x_test = test_datagen.flow_from_directory(\"/content/drive/MyDrive/Objectdata/Objectdata/testset\",target_size=(64,64),batch_size=32,class_mode=\"categorical\")"
      ],
      "execution_count": 4,
      "outputs": [
        {
          "output_type": "stream",
          "text": [
            "Found 50 images belonging to 5 classes.\n",
            "Found 50 images belonging to 5 classes.\n"
          ],
          "name": "stdout"
        }
      ]
    },
    {
      "cell_type": "code",
      "metadata": {
        "id": "vfoyJt9VyGdZ"
      },
      "source": [
        "model = Sequential()"
      ],
      "execution_count": 5,
      "outputs": []
    },
    {
      "cell_type": "code",
      "metadata": {
        "id": "pvrmc7INyJMc"
      },
      "source": [
        "model.add(Convolution2D(32,(3,3),input_shape = (64,64,3),activation = \"relu\"))"
      ],
      "execution_count": 6,
      "outputs": []
    },
    {
      "cell_type": "code",
      "metadata": {
        "id": "fnyDSvBqyeDH"
      },
      "source": [
        "model.add(MaxPooling2D(2,2))"
      ],
      "execution_count": 7,
      "outputs": []
    },
    {
      "cell_type": "code",
      "metadata": {
        "id": "_RqG3D8iyi_z"
      },
      "source": [
        "model.add(Flatten())"
      ],
      "execution_count": 8,
      "outputs": []
    },
    {
      "cell_type": "code",
      "metadata": {
        "id": "ElWI3BFVy5N1"
      },
      "source": [
        "model.add(Dense(units = 512, activation = \"relu\",kernel_initializer=\"random_uniform\"))"
      ],
      "execution_count": 9,
      "outputs": []
    },
    {
      "cell_type": "code",
      "metadata": {
        "id": "qMbgJ2y7zNl5"
      },
      "source": [
        "model.add(Dense(units = 5, activation = \"softmax\",kernel_initializer=\"random_uniform\"))"
      ],
      "execution_count": 10,
      "outputs": []
    },
    {
      "cell_type": "code",
      "metadata": {
        "id": "8_p2qIH-zR6e"
      },
      "source": [
        "model.compile(\"sgd\",loss = \"categorical_crossentropy\",metrics = [\"accuracy\"])"
      ],
      "execution_count": 11,
      "outputs": []
    },
    {
      "cell_type": "code",
      "metadata": {
        "colab": {
          "base_uri": "https://localhost:8080/"
        },
        "id": "XpRe5ol_6PR6",
        "outputId": "bbe34940-24ee-465e-cc36-51530c551c8b"
      },
      "source": [
        "model.fit_generator(x_train,steps_per_epoch = 2,epochs =10 , validation_data = x_test , validation_steps = 2)"
      ],
      "execution_count": 12,
      "outputs": [
        {
          "output_type": "stream",
          "text": [
            "/usr/local/lib/python3.7/dist-packages/tensorflow/python/keras/engine/training.py:1844: UserWarning: `Model.fit_generator` is deprecated and will be removed in a future version. Please use `Model.fit`, which supports generators.\n",
            "  warnings.warn('`Model.fit_generator` is deprecated and '\n"
          ],
          "name": "stderr"
        },
        {
          "output_type": "stream",
          "text": [
            "Epoch 1/10\n",
            "2/2 [==============================] - 2s 855ms/step - loss: 1.7784 - accuracy: 0.1558 - val_loss: 2.9186 - val_accuracy: 0.2000\n",
            "Epoch 2/10\n",
            "2/2 [==============================] - 1s 383ms/step - loss: 2.7233 - accuracy: 0.1993 - val_loss: 1.9769 - val_accuracy: 0.2800\n",
            "Epoch 3/10\n",
            "2/2 [==============================] - 1s 368ms/step - loss: 1.9571 - accuracy: 0.1837 - val_loss: 1.5363 - val_accuracy: 0.3200\n",
            "Epoch 4/10\n",
            "2/2 [==============================] - 1s 389ms/step - loss: 1.5402 - accuracy: 0.2844 - val_loss: 1.5115 - val_accuracy: 0.3800\n",
            "Epoch 5/10\n",
            "2/2 [==============================] - 1s 431ms/step - loss: 1.5334 - accuracy: 0.3481 - val_loss: 1.4936 - val_accuracy: 0.4800\n",
            "Epoch 6/10\n",
            "2/2 [==============================] - 1s 382ms/step - loss: 1.5328 - accuracy: 0.3296 - val_loss: 1.4796 - val_accuracy: 0.5000\n",
            "Epoch 7/10\n",
            "2/2 [==============================] - 1s 325ms/step - loss: 1.5062 - accuracy: 0.4496 - val_loss: 1.5019 - val_accuracy: 0.3200\n",
            "Epoch 8/10\n",
            "2/2 [==============================] - 1s 358ms/step - loss: 1.5179 - accuracy: 0.4281 - val_loss: 1.4484 - val_accuracy: 0.4600\n",
            "Epoch 9/10\n",
            "2/2 [==============================] - 1s 395ms/step - loss: 1.4994 - accuracy: 0.3667 - val_loss: 1.4376 - val_accuracy: 0.4200\n",
            "Epoch 10/10\n",
            "2/2 [==============================] - 1s 363ms/step - loss: 1.4625 - accuracy: 0.4385 - val_loss: 1.4180 - val_accuracy: 0.5800\n"
          ],
          "name": "stdout"
        },
        {
          "output_type": "execute_result",
          "data": {
            "text/plain": [
              "<tensorflow.python.keras.callbacks.History at 0x7f36b79629d0>"
            ]
          },
          "metadata": {
            "tags": []
          },
          "execution_count": 12
        }
      ]
    },
    {
      "cell_type": "code",
      "metadata": {
        "id": "McIPhJnv4lXJ"
      },
      "source": [
        "model.save(\"object.h5\")"
      ],
      "execution_count": 13,
      "outputs": []
    },
    {
      "cell_type": "code",
      "metadata": {
        "id": "wgCTwmMg9fvM"
      },
      "source": [
        "from tensorflow.keras.models import load_model\n",
        "from tensorflow.keras.preprocessing import image\n",
        "import cv2 \n",
        "import numpy as np"
      ],
      "execution_count": 14,
      "outputs": []
    },
    {
      "cell_type": "code",
      "metadata": {
        "id": "7InPMCh2HB8F"
      },
      "source": [
        "index = [\"clip\",\"compass\",\"dice\",\"pen\",\"rubixcube\"]"
      ],
      "execution_count": 15,
      "outputs": []
    },
    {
      "cell_type": "code",
      "metadata": {
        "id": "FJ5iFWbkHD9g"
      },
      "source": [
        "model = load_model(\"/content/object.h5\")"
      ],
      "execution_count": 16,
      "outputs": []
    },
    {
      "cell_type": "code",
      "metadata": {
        "id": "o_gcdG6tHQNw"
      },
      "source": [
        "img = image.load_img(\"/content/rubixcube.jpg\",target_size = (64,64))"
      ],
      "execution_count": 17,
      "outputs": []
    },
    {
      "cell_type": "code",
      "metadata": {
        "colab": {
          "base_uri": "https://localhost:8080/"
        },
        "id": "0MQ0kwmpHZBn",
        "outputId": "3c67f0d6-d698-4bf4-8272-68cc6aac37e5"
      },
      "source": [
        "type(img)"
      ],
      "execution_count": 18,
      "outputs": [
        {
          "output_type": "execute_result",
          "data": {
            "text/plain": [
              "PIL.Image.Image"
            ]
          },
          "metadata": {
            "tags": []
          },
          "execution_count": 18
        }
      ]
    },
    {
      "cell_type": "code",
      "metadata": {
        "id": "BKhirD7CHa0v"
      },
      "source": [
        "x = image.img_to_array(img)"
      ],
      "execution_count": 19,
      "outputs": []
    },
    {
      "cell_type": "code",
      "metadata": {
        "colab": {
          "base_uri": "https://localhost:8080/"
        },
        "id": "6VnamFT5HdUY",
        "outputId": "3db862cb-6c5a-49e2-d989-19e6ae6967eb"
      },
      "source": [
        "type(x)"
      ],
      "execution_count": 20,
      "outputs": [
        {
          "output_type": "execute_result",
          "data": {
            "text/plain": [
              "numpy.ndarray"
            ]
          },
          "metadata": {
            "tags": []
          },
          "execution_count": 20
        }
      ]
    },
    {
      "cell_type": "code",
      "metadata": {
        "colab": {
          "base_uri": "https://localhost:8080/"
        },
        "id": "Y51vwRKmHfKf",
        "outputId": "f8ff4444-1717-4757-925e-d029c2dc3b31"
      },
      "source": [
        "x.shape"
      ],
      "execution_count": 21,
      "outputs": [
        {
          "output_type": "execute_result",
          "data": {
            "text/plain": [
              "(64, 64, 3)"
            ]
          },
          "metadata": {
            "tags": []
          },
          "execution_count": 21
        }
      ]
    },
    {
      "cell_type": "code",
      "metadata": {
        "id": "CScoW4NeHiXn"
      },
      "source": [
        "x = np.expand_dims(x,axis=0)"
      ],
      "execution_count": 22,
      "outputs": []
    },
    {
      "cell_type": "code",
      "metadata": {
        "colab": {
          "base_uri": "https://localhost:8080/"
        },
        "id": "sWCnW7LXHnNg",
        "outputId": "b509a88b-f83b-46d3-9df7-338dab0cd70c"
      },
      "source": [
        "x.shape"
      ],
      "execution_count": 23,
      "outputs": [
        {
          "output_type": "execute_result",
          "data": {
            "text/plain": [
              "(1, 64, 64, 3)"
            ]
          },
          "metadata": {
            "tags": []
          },
          "execution_count": 23
        }
      ]
    },
    {
      "cell_type": "code",
      "metadata": {
        "colab": {
          "base_uri": "https://localhost:8080/"
        },
        "id": "z0IAlmULHo4f",
        "outputId": "8d11b13a-cea0-409a-bfb2-4785163f4c27"
      },
      "source": [
        "pred = model.predict_classes(x) "
      ],
      "execution_count": 24,
      "outputs": [
        {
          "output_type": "stream",
          "text": [
            "/usr/local/lib/python3.7/dist-packages/tensorflow/python/keras/engine/sequential.py:450: UserWarning: `model.predict_classes()` is deprecated and will be removed after 2021-01-01. Please use instead:* `np.argmax(model.predict(x), axis=-1)`,   if your model does multi-class classification   (e.g. if it uses a `softmax` last-layer activation).* `(model.predict(x) > 0.5).astype(\"int32\")`,   if your model does binary classification   (e.g. if it uses a `sigmoid` last-layer activation).\n",
            "  warnings.warn('`model.predict_classes()` is deprecated and '\n"
          ],
          "name": "stderr"
        }
      ]
    },
    {
      "cell_type": "code",
      "metadata": {
        "colab": {
          "base_uri": "https://localhost:8080/"
        },
        "id": "6pgeqgLeHqY_",
        "outputId": "1ecb06c9-344e-434f-8a99-5c8b35e2c94c"
      },
      "source": [
        "pred"
      ],
      "execution_count": 25,
      "outputs": [
        {
          "output_type": "execute_result",
          "data": {
            "text/plain": [
              "array([4])"
            ]
          },
          "metadata": {
            "tags": []
          },
          "execution_count": 25
        }
      ]
    },
    {
      "cell_type": "code",
      "metadata": {
        "colab": {
          "base_uri": "https://localhost:8080/"
        },
        "id": "eiKOJ8GNHs-v",
        "outputId": "61d2333f-6dfc-4854-e97b-73498ca61a01"
      },
      "source": [
        "print(index[pred[0]])"
      ],
      "execution_count": 26,
      "outputs": [
        {
          "output_type": "stream",
          "text": [
            "rubixcube\n"
          ],
          "name": "stdout"
        }
      ]
    },
    {
      "cell_type": "code",
      "metadata": {
        "id": "tv2pWE5JHvm1"
      },
      "source": [
        ""
      ],
      "execution_count": 26,
      "outputs": []
    }
  ]
}